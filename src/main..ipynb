{
 "cells": [
  {
   "cell_type": "code",
   "execution_count": 42,
   "metadata": {},
   "outputs": [],
   "source": [
    "import numpy as np\n",
    "import pandas as pd\n",
    "import re\n",
    "\n",
    "# Leitura dos data-sets\n",
    "ituporanga_nivel_df = pd.read_table('ituporanga - 29-06-2005 - 10-03-2014 - nível.txt')\n",
    "taio_nivel_df = pd.read_table('taió - 29-06-2005 - 14-04-2014 - nível.txt')\n",
    "rio_do_sul_nivel_df = pd.read_table('rio do sul - 29-08-2005 - 14-02-2014 - nível.txt')\n",
    "\n",
    "ituporanga_chuva_df = pd.read_table('ituporanga - 31-07-2005 - 14-04-2014 - chuva.txt')\n",
    "taio_chuva_df = pd.read_table('taió - 29-06-2005 - 14-04-2014 - chuva.txt')\n"
   ]
  },
  {
   "cell_type": "code",
   "execution_count": 43,
   "metadata": {},
   "outputs": [
    {
     "data": {
      "text/html": [
       "<div>\n",
       "<style scoped>\n",
       "    .dataframe tbody tr th:only-of-type {\n",
       "        vertical-align: middle;\n",
       "    }\n",
       "\n",
       "    .dataframe tbody tr th {\n",
       "        vertical-align: top;\n",
       "    }\n",
       "\n",
       "    .dataframe thead th {\n",
       "        text-align: right;\n",
       "    }\n",
       "</style>\n",
       "<table border=\"1\" class=\"dataframe\">\n",
       "  <thead>\n",
       "    <tr style=\"text-align: right;\">\n",
       "      <th></th>\n",
       "      <th>data</th>\n",
       "      <th>hora</th>\n",
       "      <th>data/hora</th>\n",
       "      <th>chuva</th>\n",
       "    </tr>\n",
       "  </thead>\n",
       "  <tbody>\n",
       "    <tr>\n",
       "      <th>83416</th>\n",
       "      <td>11/10/2012</td>\n",
       "      <td>00:30:00</td>\n",
       "      <td>11/10/2012 00:30:00</td>\n",
       "      <td>0.4</td>\n",
       "    </tr>\n",
       "  </tbody>\n",
       "</table>\n",
       "</div>"
      ],
      "text/plain": [
       "             data      hora            data/hora  chuva\n",
       "83416  11/10/2012  00:30:00  11/10/2012 00:30:00    0.4"
      ]
     },
     "execution_count": 43,
     "metadata": {},
     "output_type": "execute_result"
    }
   ],
   "source": [
    "# Transforma os data-sets em data-frames legíveis\n",
    "default_nivel_column_name = '.........Data e Hora..........Nível (cm)'\n",
    "default_chuva_column_name = '.........Data e Hora..........Chuva (mm)'\n",
    "whitespace_regex = ' +'\n",
    "\n",
    "ituporanga_nivel_division = ituporanga_nivel_df[default_nivel_column_name].str.split(whitespace_regex)\n",
    "taio_nivel_division = taio_nivel_df[default_nivel_column_name].str.split(whitespace_regex)\n",
    "rio_do_sul_nivel_division = rio_do_sul_nivel_df[default_nivel_column_name].str.split(whitespace_regex)\n",
    "\n",
    "ituporanga_nivel_df['data'] = ituporanga_nivel_division.str.get(1)\n",
    "taio_nivel_df['data'] = taio_nivel_division.str.get(1)\n",
    "rio_do_sul_nivel_df['data'] = rio_do_sul_nivel_division.str.get(1)\n",
    "\n",
    "ituporanga_nivel_df['hora'] = ituporanga_nivel_division.str.get(2)\n",
    "taio_nivel_df['hora'] = taio_nivel_division.str.get(2)\n",
    "rio_do_sul_nivel_df['hora'] = rio_do_sul_nivel_division.str.get(2)\n",
    "\n",
    "ituporanga_nivel_df['data/hora'] = ituporanga_nivel_df['data'] + ' ' + ituporanga_nivel_df['hora']\n",
    "taio_nivel_df['data/hora'] = taio_nivel_df['data'] + ' ' + taio_nivel_df['hora']\n",
    "rio_do_sul_nivel_df['data/hora'] = rio_do_sul_nivel_df['data'] + ' ' + rio_do_sul_nivel_df['hora']\n",
    "\n",
    "ituporanga_nivel_df['nivel'] = pd.to_numeric(ituporanga_nivel_division.str.get(3), errors='coerce')\n",
    "taio_nivel_df['nivel'] = pd.to_numeric(taio_nivel_division.str.get(3), errors='coerce')\n",
    "rio_do_sul_nivel_df['nivel'] = pd.to_numeric(rio_do_sul_nivel_division.str.get(3), errors='coerce')\n",
    "\n",
    "ituporanga_nivel_df.drop(default_nivel_column_name, inplace=True, axis=1)\n",
    "taio_nivel_df.drop(default_nivel_column_name, inplace=True, axis=1)\n",
    "rio_do_sul_nivel_df.drop(default_nivel_column_name, inplace=True, axis=1)\n",
    "\n",
    "ituporanga_chuva_division = ituporanga_chuva_df[default_chuva_column_name].str.split(whitespace_regex)\n",
    "taio_chuva_division = taio_chuva_df[default_chuva_column_name].str.split(whitespace_regex)\n",
    "\n",
    "ituporanga_chuva_df['data'] = ituporanga_chuva_division.str.get(1)\n",
    "taio_chuva_df['data'] = taio_chuva_division.str.get(1)\n",
    "\n",
    "ituporanga_chuva_df['hora'] = ituporanga_chuva_division.str.get(2)\n",
    "taio_chuva_df['hora'] = taio_chuva_division.str.get(2)\n",
    "\n",
    "ituporanga_nivel_df['data/hora'] = ituporanga_chuva_df['data'] + ' ' + ituporanga_chuva_df['hora']\n",
    "taio_chuva_df['data/hora'] = taio_chuva_df['data'] + ' ' + taio_chuva_df['hora']\n",
    "\n",
    "ituporanga_chuva_df['chuva'] = pd.to_numeric(ituporanga_chuva_division.str.get(3), errors='coerce')\n",
    "taio_chuva_df['chuva'] = pd.to_numeric(taio_chuva_division.str.get(3), errors='coerce')\n",
    "\n",
    "ituporanga_chuva_df.drop(default_chuva_column_name, inplace=True, axis=1)\n",
    "taio_chuva_df.drop(default_chuva_column_name, inplace=True, axis=1)\n"
   ]
  }
 ],
 "metadata": {
  "kernelspec": {
   "display_name": "Python 3.8.10 64-bit",
   "language": "python",
   "name": "python3"
  },
  "language_info": {
   "codemirror_mode": {
    "name": "ipython",
    "version": 3
   },
   "file_extension": ".py",
   "mimetype": "text/x-python",
   "name": "python",
   "nbconvert_exporter": "python",
   "pygments_lexer": "ipython3",
   "version": "3.8.10"
  },
  "orig_nbformat": 4,
  "vscode": {
   "interpreter": {
    "hash": "916dbcbb3f70747c44a77c7bcd40155683ae19c65e1c03b4aa3499c5328201f1"
   }
  }
 },
 "nbformat": 4,
 "nbformat_minor": 2
}
