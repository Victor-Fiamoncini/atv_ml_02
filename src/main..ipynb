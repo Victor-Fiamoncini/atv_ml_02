{
 "cells": [
  {
   "cell_type": "code",
   "execution_count": null,
   "metadata": {},
   "outputs": [],
   "source": [
    "# Imports e leitura dos data-sets\n",
    "import pandas as pd\n",
    "\n",
    "ituporanga_nivel_df = pd.read_table('ituporanga - 29-06-2005 - 10-03-2014 - nível.txt')\n",
    "ituporanga_chuva_df = pd.read_table('ituporanga - 31-07-2005 - 14-04-2014 - chuva.txt')\n",
    "rio_do_sul_nivel_df = pd.read_table('rio do sul - 29-08-2005 - 14-02-2014 - nível.txt')\n",
    "taio_chuva_df = pd.read_table('taió - 29-06-2005 - 14-04-2014 - chuva.txt')\n",
    "taio_nivel_df = pd.read_table('taió - 29-06-2005 - 14-04-2014 - nível.txt')\n"
   ]
  },
  {
   "cell_type": "code",
   "execution_count": null,
   "metadata": {},
   "outputs": [],
   "source": [
    "# Tranformação do data-set para um data-frame legível\n",
    "ituporanga_nivel_df = ituporanga_nivel_df.rename(\n",
    "  columns={\n",
    "    '.........Data e Hora..........Nível (cm)': 'Data/Hora - Nível (cm)'\n",
    "  }\n",
    ")\n",
    "ituporanga_nivel_division = ituporanga_nivel_df['Data/Hora - Nível (cm)'].str.split('                 ')\n",
    "\n",
    "ituporanga_nivel_date_hour = ituporanga_nivel_division.str.get(0)\n",
    "ituporanga_nivel_level = ituporanga_nivel_division.str.get(1)\n",
    "\n",
    "ituporanga_nivel_df['Data/Hora'] = ituporanga_nivel_date_hour\n",
    "ituporanga_nivel_df['Nível'] = ituporanga_nivel_level\n",
    "\n",
    "ituporanga_nivel_df.drop('Data/Hora - Nível (cm)', inplace=True, axis=1)\n",
    "\n",
    "ituporanga_nivel_df.head(20)"
   ]
  }
 ],
 "metadata": {
  "kernelspec": {
   "display_name": "Python 3.8.10 64-bit",
   "language": "python",
   "name": "python3"
  },
  "language_info": {
   "codemirror_mode": {
    "name": "ipython",
    "version": 3
   },
   "file_extension": ".py",
   "mimetype": "text/x-python",
   "name": "python",
   "nbconvert_exporter": "python",
   "pygments_lexer": "ipython3",
   "version": "3.8.10"
  },
  "orig_nbformat": 4,
  "vscode": {
   "interpreter": {
    "hash": "916dbcbb3f70747c44a77c7bcd40155683ae19c65e1c03b4aa3499c5328201f1"
   }
  }
 },
 "nbformat": 4,
 "nbformat_minor": 2
}
