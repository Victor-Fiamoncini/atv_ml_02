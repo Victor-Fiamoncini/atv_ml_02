{
 "cells": [
  {
   "cell_type": "code",
   "execution_count": 20,
   "metadata": {},
   "outputs": [],
   "source": [
    "import numpy as np\n",
    "import pandas as pd\n",
    "import re\n",
    "\n",
    "from functools import reduce\n",
    "from sklearn.linear_model import LinearRegression\n",
    "\n",
    "''' Leitura dos data-sets '''\n",
    "ituporanga_nivel_df = pd.read_table('ituporanga - 29-06-2005 - 10-03-2014 - nível.txt')\n",
    "taio_nivel_df = pd.read_table('taió - 29-06-2005 - 14-04-2014 - nível.txt')\n",
    "rio_do_sul_nivel_df = pd.read_table('rio do sul - 29-06-2005 - 14-04-2014 - nível.txt')\n",
    "\n",
    "ituporanga_chuva_df = pd.read_table('ituporanga - 31-07-2005 - 14-04-2014 - chuva.txt')\n",
    "taio_chuva_df = pd.read_table('taió - 29-06-2005 - 14-04-2014 - chuva.txt')"
   ]
  },
  {
   "cell_type": "code",
   "execution_count": 21,
   "metadata": {},
   "outputs": [],
   "source": [
    "''' Transforma e une os data-sets em um data-frame legível '''\n",
    "default_nivel_column_name = '.........Data e Hora..........Nível (cm)'\n",
    "default_chuva_column_name = '.........Data e Hora..........Chuva (mm)'\n",
    "whitespace_regex = ' +'\n",
    "\n",
    "ituporanga_nivel_division = ituporanga_nivel_df[default_nivel_column_name].str.split(whitespace_regex)\n",
    "taio_nivel_division = taio_nivel_df[default_nivel_column_name].str.split(whitespace_regex)\n",
    "rio_do_sul_nivel_division = rio_do_sul_nivel_df[default_nivel_column_name].str.split(whitespace_regex)\n",
    "\n",
    "ituporanga_nivel_df['data'] = ituporanga_nivel_division.str.get(1)\n",
    "taio_nivel_df['data'] = taio_nivel_division.str.get(1)\n",
    "rio_do_sul_nivel_df['data'] = rio_do_sul_nivel_division.str.get(1)\n",
    "\n",
    "ituporanga_nivel_df['hora'] = ituporanga_nivel_division.str.get(2)\n",
    "taio_nivel_df['hora'] = taio_nivel_division.str.get(2)\n",
    "rio_do_sul_nivel_df['hora'] = rio_do_sul_nivel_division.str.get(2)\n",
    "\n",
    "ituporanga_nivel_df['data/hora'] = ituporanga_nivel_df['data'] + ' ' + ituporanga_nivel_df['hora']\n",
    "taio_nivel_df['data/hora'] = taio_nivel_df['data'] + ' ' + taio_nivel_df['hora']\n",
    "rio_do_sul_nivel_df['data/hora'] = rio_do_sul_nivel_df['data'] + ' ' + rio_do_sul_nivel_df['hora']\n",
    "\n",
    "ituporanga_nivel_df['nivel/ituporanga'] = pd.to_numeric(ituporanga_nivel_division.str.get(3), errors='coerce')\n",
    "taio_nivel_df['nivel/taio'] = pd.to_numeric(taio_nivel_division.str.get(3), errors='coerce')\n",
    "rio_do_sul_nivel_df['nivel/rio do sul'] = pd.to_numeric(rio_do_sul_nivel_division.str.get(3), errors='coerce')\n",
    "\n",
    "ituporanga_nivel_df.drop(default_nivel_column_name, inplace=True, axis=1)\n",
    "taio_nivel_df.drop(default_nivel_column_name, inplace=True, axis=1)\n",
    "rio_do_sul_nivel_df.drop(default_nivel_column_name, inplace=True, axis=1)\n",
    "\n",
    "ituporanga_chuva_division = ituporanga_chuva_df[default_chuva_column_name].str.split(whitespace_regex)\n",
    "taio_chuva_division = taio_chuva_df[default_chuva_column_name].str.split(whitespace_regex)\n",
    "\n",
    "ituporanga_chuva_df['data'] = ituporanga_chuva_division.str.get(1)\n",
    "taio_chuva_df['data'] = taio_chuva_division.str.get(1)\n",
    "\n",
    "ituporanga_chuva_df['hora'] = ituporanga_chuva_division.str.get(2)\n",
    "taio_chuva_df['hora'] = taio_chuva_division.str.get(2)\n",
    "\n",
    "ituporanga_chuva_df['data/hora'] = ituporanga_chuva_df['data'] + ' ' + ituporanga_chuva_df['hora']\n",
    "taio_chuva_df['data/hora'] = taio_chuva_df['data'] + ' ' + taio_chuva_df['hora']\n",
    "\n",
    "ituporanga_chuva_df['chuva/ituporanga'] = pd.to_numeric(ituporanga_chuva_division.str.get(3), errors='coerce')\n",
    "taio_chuva_df['chuva/taio'] = pd.to_numeric(taio_chuva_division.str.get(3), errors='coerce')\n",
    "\n",
    "ituporanga_chuva_df.drop(default_chuva_column_name, inplace=True, axis=1)\n",
    "taio_chuva_df.drop(default_chuva_column_name, inplace=True, axis=1)\n",
    "\n",
    "dfs = [taio_nivel_df, taio_chuva_df, rio_do_sul_nivel_df, ituporanga_nivel_df, ituporanga_chuva_df]\n",
    "\n",
    "df_merge_cb = lambda merged_dfs, next_df: pd.merge(merged_dfs, next_df, how='left')\n",
    "\n",
    "df_merged = reduce(df_merge_cb, dfs).fillna(np.nan)\n",
    "\n",
    "# df_merged.to_csv('../data.csv')\n",
    "\n",
    "\n",
    "\n",
    "\n"
   ]
  }
 ],
 "metadata": {
  "kernelspec": {
   "display_name": "Python 3.8.10 64-bit",
   "language": "python",
   "name": "python3"
  },
  "language_info": {
   "codemirror_mode": {
    "name": "ipython",
    "version": 3
   },
   "file_extension": ".py",
   "mimetype": "text/x-python",
   "name": "python",
   "nbconvert_exporter": "python",
   "pygments_lexer": "ipython3",
   "version": "3.8.10"
  },
  "orig_nbformat": 4,
  "vscode": {
   "interpreter": {
    "hash": "916dbcbb3f70747c44a77c7bcd40155683ae19c65e1c03b4aa3499c5328201f1"
   }
  }
 },
 "nbformat": 4,
 "nbformat_minor": 2
}
