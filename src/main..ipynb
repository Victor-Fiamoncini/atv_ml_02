{
 "cells": [
  {
   "cell_type": "code",
   "execution_count": 42,
   "metadata": {},
   "outputs": [],
   "source": [
    "import numpy as np\n",
    "import pandas as pd\n",
    "import re\n",
    "\n",
    "# Leitura dos data-sets\n",
    "ituporanga_nivel_df = pd.read_table('ituporanga - 29-06-2005 - 10-03-2014 - nível.txt')\n",
    "ituporanga_chuva_df = pd.read_table('ituporanga - 31-07-2005 - 14-04-2014 - chuva.txt')\n",
    "rio_do_sul_nivel_df = pd.read_table('rio do sul - 29-08-2005 - 14-02-2014 - nível.txt')\n",
    "taio_chuva_df = pd.read_table('taió - 29-06-2005 - 14-04-2014 - chuva.txt')\n",
    "taio_nivel_df = pd.read_table('taió - 29-06-2005 - 14-04-2014 - nível.txt')"
   ]
  },
  {
   "cell_type": "code",
   "execution_count": 43,
   "metadata": {},
   "outputs": [
    {
     "data": {
      "text/plain": [
       "data      object\n",
       "hora      object\n",
       "nivel    float64\n",
       "dtype: object"
      ]
     },
     "execution_count": 43,
     "metadata": {},
     "output_type": "execute_result"
    }
   ],
   "source": [
    "# Transforma o data-set \"ituporanga_nivel_df\" em um data-frame legível\n",
    "default_column_name = '.........Data e Hora..........Nível (cm)'\n",
    "ituporanga_nivel_division = ituporanga_nivel_df[default_column_name].str.split('                 ')\n",
    "ituporanga_nivel_date_and_hour = ituporanga_nivel_division.str.get(0)\n",
    "ituporanga_nivel_df['data'] = ituporanga_nivel_date_and_hour.str.split(' ').str.get(1)\n",
    "ituporanga_nivel_df['hora'] = ituporanga_nivel_date_and_hour.str.split(' ').str.get(2)\n",
    "ituporanga_nivel_df['nivel'] = pd.to_numeric(ituporanga_nivel_division.str.get(1), errors='coerce')\n",
    "ituporanga_nivel_df.drop(default_column_name, inplace=True, axis=1)\n",
    "\n",
    "ituporanga_nivel_df.dtypes\n"
   ]
  }
 ],
 "metadata": {
  "kernelspec": {
   "display_name": "Python 3.8.10 64-bit",
   "language": "python",
   "name": "python3"
  },
  "language_info": {
   "codemirror_mode": {
    "name": "ipython",
    "version": 3
   },
   "file_extension": ".py",
   "mimetype": "text/x-python",
   "name": "python",
   "nbconvert_exporter": "python",
   "pygments_lexer": "ipython3",
   "version": "3.8.10"
  },
  "orig_nbformat": 4,
  "vscode": {
   "interpreter": {
    "hash": "916dbcbb3f70747c44a77c7bcd40155683ae19c65e1c03b4aa3499c5328201f1"
   }
  }
 },
 "nbformat": 4,
 "nbformat_minor": 2
}
